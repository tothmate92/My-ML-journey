{
 "cells": [
  {
   "cell_type": "code",
   "execution_count": 1,
   "metadata": {},
   "outputs": [],
   "source": [
    "import pandas as pd\n",
    "from sklearn.model_selection import train_test_split\n",
    "from sklearn.preprocessing import StandardScaler\n",
    "from imblearn.over_sampling import SMOTE\n",
    "from sklearn.linear_model import LogisticRegression\n",
    "from sklearn.metrics import classification_report, accuracy_score, confusion_matrix"
   ]
  },
  {
   "cell_type": "code",
   "execution_count": 2,
   "metadata": {},
   "outputs": [],
   "source": [
    "df = pd.read_csv('framingham.csv')"
   ]
  },
  {
   "cell_type": "markdown",
   "metadata": {},
   "source": [
    "In EDA, we saw, that education has actually a weak negative correlation to the target, so we exclude it."
   ]
  },
  {
   "cell_type": "code",
   "execution_count": 3,
   "metadata": {},
   "outputs": [],
   "source": [
    "df = df.drop(columns=['education'])"
   ]
  },
  {
   "cell_type": "markdown",
   "metadata": {},
   "source": [
    "Next, we have to consider missing values.\n",
    "\n",
    "Because of this is just a learning-driven project, I simply fill missing values with median.\n",
    "\n",
    "We can also use mean, or interpolate, but now, for the sake of simplicity, I use median."
   ]
  },
  {
   "cell_type": "code",
   "execution_count": 5,
   "metadata": {},
   "outputs": [
    {
     "data": {
      "text/plain": [
       "sex                0\n",
       "age                0\n",
       "currentSmoker      0\n",
       "cigsPerDay         0\n",
       "BPMeds             0\n",
       "prevalentStroke    0\n",
       "prevalentHyp       0\n",
       "diabetes           0\n",
       "totChol            0\n",
       "sysBP              0\n",
       "diaBP              0\n",
       "BMI                0\n",
       "heartRate          0\n",
       "glucose            0\n",
       "TenYearCHD         0\n",
       "dtype: int64"
      ]
     },
     "execution_count": 5,
     "metadata": {},
     "output_type": "execute_result"
    }
   ],
   "source": [
    "df.fillna(df.median(), inplace=True)\n",
    "df.isna().sum()"
   ]
  },
  {
   "cell_type": "markdown",
   "metadata": {},
   "source": [
    "Next, I define the features and the target variable"
   ]
  },
  {
   "cell_type": "code",
   "execution_count": 6,
   "metadata": {},
   "outputs": [],
   "source": [
    "X = df.drop(columns=['TenYearCHD'])\n",
    "y = df['TenYearCHD']"
   ]
  },
  {
   "cell_type": "markdown",
   "metadata": {},
   "source": [
    "Now we have to scale our data.\n",
    "\n",
    "Scaling our data is a critical step in our analysis. Without it, we risk encountering a ConvergenceWarning, indicating that the Limited-memory Broyden–Fletcher–Goldfarb–Shanno (LBFGS) Algorithm has failed to converge.\n",
    "\n",
    "This step ensures that each feature contributes equally, facilitates faster convergence, and aids in regularization"
   ]
  },
  {
   "cell_type": "code",
   "execution_count": 7,
   "metadata": {},
   "outputs": [],
   "source": [
    "#Split the data into training and test, and then scaling.\n",
    "X_train, X_test, y_train, y_test = train_test_split(X, y, test_size=0.2, random_state=42)\n",
    "\n",
    "scaler = StandardScaler()\n",
    "\n",
    "X_train = scaler.fit_transform(X_train)\n",
    "X_test = scaler.transform(X_test)"
   ]
  },
  {
   "cell_type": "markdown",
   "metadata": {},
   "source": [
    "In our exploratory data analysis (EDA), we discovered that our dataset is skewed, with a minority class comprising only 15% of the data. This class imbalance can mislead the training process, necessitating corrective measures\n",
    "\n",
    "Before delving into detailed examples, I'd like to illustrate how accuracy and intuition can be deceptive when evaluating models.\n",
    "\n",
    "Without balancing the data, our model achieves an accuracy of 85.73%, which may seem impressive initially. However, a closer examination reveals concerning discrepancies in other performance metrics. For instance, the recall in the majority class is 0.99, while in the minority class, it's only 0.07. Similarly, the F1-score in the majority class is 0.92, but in the minority class, it's just 0.13.\n",
    "\n",
    "Despite achieving an impressive accuracy of 85.73%, our model's performance metrics reveal significant disparities when assessing its effectiveness. While accuracy alone may initially seem satisfactory, a deeper analysis exposes concerning discrepancies in other crucial performance metrics.\n",
    "\n",
    "In particular, the recall rate for the majority class stands impressively high at 0.99, indicating the model's ability to correctly identify instances belonging to this class. However, the picture is starkly different for the minority class, where the recall rate plunges to a mere 0.07. This alarming contrast underscores the model's struggle to accurately capture instances from the minority class, posing a potential risk in real-world applications.\n",
    "\n",
    "Similarly, the F1-score, a harmonic mean of precision and recall, demonstrates a notable disparity between the majority and minority classes. While the F1-score for the majority class is commendable at 0.92, indicating a strong balance between precision and recall, the minority class's F1-score is strikingly low at 0.13. This discrepancy highlights the model's challenge in achieving both high precision and recall for the minority class, indicating potential limitations in its performance for this crucial subset of data.\n",
    "\n",
    "These findings underscore the importance of considering multiple performance metrics beyond accuracy alone, particularly in the context of imbalanced datasets. While accuracy provides a superficial measure of overall model performance, it fails to capture nuances such as class imbalances and the associated trade-offs in precision and recall. As we proceed, we'll explore techniques to address these discrepancies and enhance the model's effectiveness in capturing minority class instances.\n",
    "\n",
    "For further insights on addressing class imbalance, I recommend reading this insightful article:\n",
    "https://www.analyticsvidhya.com/blog/2020/10/overcoming-class-imbalance-using-smote-techniques/\n",
    "\n",
    "To tackle this problem, I'll employ an oversampling technique called Synthetic Minority Oversampling Technique (SMOTE).\n",
    "\n",
    "Later, we'll evaluate how SMOTE improves our recall and F1-score while simultaneously reducing the overall accuracy. It's important to recognize the tradeoff involved in such techniques, especially in real-world scenarios where careful consideration of features and balancing techniques is crucial. However, for demonstrative purposes, I'll proceed with SMOTE."
   ]
  },
  {
   "cell_type": "code",
   "execution_count": 8,
   "metadata": {},
   "outputs": [],
   "source": [
    "smote = SMOTE(random_state=42)\n",
    "X_train_sm, y_train_sm = smote.fit_resample(X_train, y_train)"
   ]
  },
  {
   "cell_type": "markdown",
   "metadata": {},
   "source": [
    "To showcase the impact of Synthetic Minority Over-sampling Technique (SMOTE), let's examine the distribution of the target variable (y_train) before and after applying the algorithm:\n",
    "\n",
    "Before SMOTE:\n",
    "\n",
    "- Class 0 (no heart disease): 2870 samples\n",
    "- Class 1 (heart disease): 520 samples\n",
    "\n",
    "\n",
    "After SMOTE:\n",
    "\n",
    "- Class 0 (no heart disease): 2870 samples\n",
    "- Class 1 (heart disease): 2870 samples\n",
    "\n",
    "\n",
    "This comparison highlights the transformation brought about by SMOTE, which balances the distribution of both classes by synthesizing new instances of the minority class (class 1) to match the frequency of the majority class (class 0). As a result, the dataset becomes more balanced, addressing the initial class imbalance and potentially improving the model's performance in capturing instances from the minority class.\n",
    "\n",
    "\n",
    "\n",
    "\n",
    "\n"
   ]
  },
  {
   "cell_type": "code",
   "execution_count": 10,
   "metadata": {},
   "outputs": [],
   "source": [
    "#Training the model\n",
    "model = LogisticRegression()\n",
    "model.fit(X_train_sm, y_train_sm)\n",
    "y_pred = model.predict(X_test)\n"
   ]
  },
  {
   "cell_type": "code",
   "execution_count": 11,
   "metadata": {},
   "outputs": [
    {
     "name": "stdout",
     "output_type": "stream",
     "text": [
      "Accuracy: 0.6391509433962265\n",
      "              precision    recall  f1-score   support\n",
      "\n",
      "           0       0.91      0.64      0.75       724\n",
      "           1       0.23      0.65      0.34       124\n",
      "\n",
      "    accuracy                           0.64       848\n",
      "   macro avg       0.57      0.64      0.55       848\n",
      "weighted avg       0.81      0.64      0.69       848\n",
      "\n"
     ]
    }
   ],
   "source": [
    "#And now, print out the metrics of the algorithm\n",
    "print(\"Accuracy:\", accuracy_score(y_test, y_pred))\n",
    "print(classification_report(y_test, y_pred))\n"
   ]
  },
  {
   "cell_type": "markdown",
   "metadata": {},
   "source": []
  },
  {
   "cell_type": "code",
   "execution_count": 15,
   "metadata": {},
   "outputs": [
    {
     "name": "stdout",
     "output_type": "stream",
     "text": [
      "[[462 262]\n",
      " [ 44  80]]\n",
      "\n",
      "\n",
      "                Predicted Negative    Predicted Positive\n",
      "Actual Negative           TN                    FP\n",
      "Actual Positive           FN                    TP\n"
     ]
    },
    {
     "data": {
      "image/png": "[encoded data removed]",
      "text/plain": [
       "<Figure size 800x600 with 2 Axes>"
      ]
     },
     "metadata": {},
     "output_type": "display_data"
    }
   ],
   "source": [
    "from sklearn.metrics import ConfusionMatrixDisplay\n",
    "import matplotlib.pyplot as plt\n",
    "import seaborn as sns\n",
    "# Assuming you already have the confusion matrix 'cm'\n",
    "# Create a ConfusionMatrixDisplay object\n",
    "cm = confusion_matrix(y_test, y_pred)\n",
    "print(cm)\n",
    "print('\\n')\n",
    "print('                Predicted Negative    Predicted Positive')\n",
    "print('Actual Negative           TN                    FP')\n",
    "print('Actual Positive           FN                    TP')\n",
    "\n",
    "cm_display = ConfusionMatrixDisplay(confusion_matrix=cm, display_labels=['Class 0', 'Class 1'])\n",
    "\n",
    "# Plot the confusion matrix\n",
    "fig, ax = plt.subplots(figsize=(8, 6))\n",
    "cm_display.plot(cmap='Blues', ax=ax)  # You can specify other parameters like cmap (color map)\n",
    "plt.title('Confusion Matrix')\n",
    "plt.show()"
   ]
  },
  {
   "cell_type": "markdown",
   "metadata": {},
   "source": [
    "To showcase the differences, let me show the confusion matrix in an array form without balancing the data:"
   ]
  },
  {
   "cell_type": "code",
   "execution_count": 16,
   "metadata": {},
   "outputs": [
    {
     "name": "stdout",
     "output_type": "stream",
     "text": [
      "\n",
      "Confusion Matrix:\n",
      "\n",
      "[[718   6]\n",
      "[115   9]]\n"
     ]
    }
   ],
   "source": [
    "print('''\n",
    "Confusion Matrix:\n",
    "\n",
    "[[718   6]\n",
    "[115   9]]''')"
   ]
  },
  {
   "cell_type": "markdown",
   "metadata": {},
   "source": [
    "The mentioned trade-off is better performance in True Positive and False Negative predictions, where the predicted outcome and the actual label are equal, and vica-versa, but decreased performance in the True Negatives and False Positives."
   ]
  }
 ],
 "metadata": {
  "kernelspec": {
   "display_name": "base",
   "language": "python",
   "name": "python3"
  },
  "language_info": {
   "codemirror_mode": {
    "name": "ipython",
    "version": 3
   },
   "file_extension": ".py",
   "mimetype": "text/x-python",
   "name": "python",
   "nbconvert_exporter": "python",
   "pygments_lexer": "ipython3",
   "version": "3.11.5"
  }
 },
 "nbformat": 4,
 "nbformat_minor": 2
}
