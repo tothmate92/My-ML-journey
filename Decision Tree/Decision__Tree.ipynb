{
 "cells": [
  {
   "cell_type": "code",
   "execution_count": 4,
   "metadata": {},
   "outputs": [],
   "source": [
    "# import libraries\n",
    "import pandas as pd\n",
    "import matplotlib.pyplot as plt\n",
    "import seaborn as sns\n",
    "import numpy as np\n",
    "from sklearn.tree import DecisionTreeClassifier, plot_tree\n",
    "from sklearn.preprocessing import OneHotEncoder, StandardScaler\n",
    "from sklearn.model_selection import train_test_split, GridSearchCV, cross_val_score\n",
    "from imblearn.over_sampling import SMOTE\n",
    "from sklearn.metrics import accuracy_score\n"
   ]
  },
  {
   "cell_type": "code",
   "execution_count": 8,
   "metadata": {},
   "outputs": [],
   "source": [
    "df = pd.read_csv('drug200.csv')"
   ]
  },
  {
   "cell_type": "markdown",
   "metadata": {},
   "source": [
    "We see in the EDA part, that the data is skewed in Na_to_K and the drug feature.\n",
    "\n",
    "We also know from explorating the dataset, that there are **no missing values**.\n",
    "\n",
    "So first, we make Na_to_K more symmetric using **log-transformation**\n",
    "(in the EDA file, you can see at the end of the notebook the effect of this method)"
   ]
  },
  {
   "cell_type": "code",
   "execution_count": 9,
   "metadata": {},
   "outputs": [
    {
     "name": "stdout",
     "output_type": "stream",
     "text": [
      "0      25.355\n",
      "1      13.093\n",
      "2      10.114\n",
      "3       7.798\n",
      "4      18.043\n",
      "        ...  \n",
      "195    11.567\n",
      "196    12.006\n",
      "197     9.894\n",
      "198    14.020\n",
      "199    11.349\n",
      "Name: Na_to_K, Length: 200, dtype: float64\n",
      "\n",
      "\n",
      "0      3.271658\n",
      "1      2.645678\n",
      "2      2.408206\n",
      "3      2.174524\n",
      "4      2.946700\n",
      "         ...   \n",
      "195    2.531074\n",
      "196    2.565411\n",
      "197    2.388212\n",
      "198    2.709383\n",
      "199    2.513575\n",
      "Name: Na_to_K, Length: 200, dtype: float64\n"
     ]
    }
   ],
   "source": [
    "# print out the original column\n",
    "print(df['Na_to_K'])\n",
    "print('\\n')\n",
    "\n",
    "# performing the log-transform and assigning back \n",
    "df['Na_to_K'] = np.log1p(df['Na_to_K'])\n",
    "\n",
    "# print new values\n",
    "print(df['Na_to_K'])"
   ]
  },
  {
   "cell_type": "code",
   "execution_count": null,
   "metadata": {},
   "outputs": [],
   "source": []
  }
 ],
 "metadata": {
  "kernelspec": {
   "display_name": "base",
   "language": "python",
   "name": "python3"
  },
  "language_info": {
   "codemirror_mode": {
    "name": "ipython",
    "version": 3
   },
   "file_extension": ".py",
   "mimetype": "text/x-python",
   "name": "python",
   "nbconvert_exporter": "python",
   "pygments_lexer": "ipython3",
   "version": "3.11.5"
  }
 },
 "nbformat": 4,
 "nbformat_minor": 2
}
